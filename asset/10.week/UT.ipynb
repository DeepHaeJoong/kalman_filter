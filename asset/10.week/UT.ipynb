{
 "cells": [
  {
   "cell_type": "code",
   "execution_count": null,
   "metadata": {},
   "outputs": [],
   "source": [
    "import numpy as np\n",
    "import matplotlib.pyplot as plt\n",
    "from numpy.linalg import inv, cholesky\n",
    "\n",
    "np.random.seed(0)"
   ]
  },
  {
   "cell_type": "code",
   "execution_count": null,
   "metadata": {},
   "outputs": [],
   "source": [
    "def sigma_points(mu, Sigma, kappa):\n",
    "    n = len(mu)\n",
    "    Xi = np.zeros((n, 2*n+1))\n",
    "    W = np.zeros(2*n+1)\n",
    "    \n",
    "    Xi[:, 0] = mu\n",
    "    W[0] = kappa / (n + kappa)\n",
    "    \n",
    "    U = cholesky((n + kappa)*Sigma)\n",
    "    \n",
    "    for i in range(n):\n",
    "        Xi[:, i+1]   = mu + U[:, i]\n",
    "        Xi[:, n+i+1] = mu - U[:, i]\n",
    "        W[i+1]       = 1 / (2*(n+kappa))\n",
    "        W[n+i+1]     = W[i+1]\n",
    "        \n",
    "    return Xi, W"
   ]
  },
  {
   "cell_type": "code",
   "execution_count": null,
   "metadata": {},
   "outputs": [],
   "source": [
    "def UT(Xi, W, noiseCov):\n",
    "    mean = np.sum(W * Xi, axis=1)\n",
    "    cov = W * (Xi - mean.reshape(-1, 1)) @ (Xi  - mean.reshape(-1, 1)).T\n",
    "    return mean, cov + noiseCov"
   ]
  },
  {
   "cell_type": "code",
   "execution_count": null,
   "metadata": {},
   "outputs": [],
   "source": [
    "xm = np.array([5, 3])\n",
    "P  = np.array([[7, 0], [0, 18]])\n",
    "kappa = np.array([2])\n",
    "Xi, W = sigma_points(xm, P, kappa)\n",
    "Xi, W"
   ]
  },
  {
   "cell_type": "code",
   "execution_count": null,
   "metadata": {},
   "outputs": [],
   "source": [
    "UT(Xi, W, 0)"
   ]
  }
 ],
 "metadata": {
  "kernelspec": {
   "display_name": "Python 3",
   "language": "python",
   "name": "python3"
  },
  "language_info": {
   "codemirror_mode": {
    "name": "ipython",
    "version": 3
   },
   "file_extension": ".py",
   "mimetype": "text/x-python",
   "name": "python",
   "nbconvert_exporter": "python",
   "pygments_lexer": "ipython3",
   "version": "3.6.7"
  }
 },
 "nbformat": 4,
 "nbformat_minor": 2
}
