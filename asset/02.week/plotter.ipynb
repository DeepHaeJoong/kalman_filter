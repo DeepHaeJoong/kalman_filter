{
 "cells": [
  {
   "cell_type": "code",
   "execution_count": null,
   "metadata": {},
   "outputs": [],
   "source": [
    "import numpy as np\n",
    "import matplotlib.pyplot as plt"
   ]
  },
  {
   "cell_type": "code",
   "execution_count": null,
   "metadata": {},
   "outputs": [],
   "source": [
    "mu0 = -2\n",
    "mu1 = 2\n",
    "sigma0 = 2\n",
    "sigma1 = 1"
   ]
  },
  {
   "cell_type": "code",
   "execution_count": null,
   "metadata": {},
   "outputs": [],
   "source": [
    "mu2 = (sigma0**2*mu1 + sigma1**2*mu0) / (sigma0**2 + sigma1**2)\n",
    "sigma2 = (sigma0**2 * sigma1**2) / (sigma0**2 + sigma1**2)"
   ]
  },
  {
   "cell_type": "code",
   "execution_count": null,
   "metadata": {},
   "outputs": [],
   "source": [
    "lower = -10\n",
    "upper = +10"
   ]
  },
  {
   "cell_type": "code",
   "execution_count": null,
   "metadata": {},
   "outputs": [],
   "source": [
    "x = np.arange(lower, upper, 0.1)\n",
    "y0 = 1./np.sqrt(2*np.pi*sigma0**2) * np.exp(-(x-mu0)**2/(2*sigma0**2))\n",
    "y1 = 1./np.sqrt(2*np.pi*sigma1**2) * np.exp(-(x-mu1)**2/(2*sigma1**2))\n",
    "y2 = 1./np.sqrt(2*np.pi*sigma2**2) * np.exp(-(x-mu2)**2/(2*sigma2**2))"
   ]
  },
  {
   "cell_type": "code",
   "execution_count": null,
   "metadata": {},
   "outputs": [],
   "source": [
    "fig, ax = plt.subplots()\n",
    "plt.plot(x, y2, 'b', label='2.')\n",
    "ax.tick_params(axis='both', which='major', labelsize=1)\n",
    "plt.xlim((-10,10))\n",
    "plt.savefig('1.png')"
   ]
  },
  {
   "cell_type": "code",
   "execution_count": null,
   "metadata": {},
   "outputs": [],
   "source": [
    "fig, ax = plt.subplots()\n",
    "plt.plot(x, y0, 'r', label='0.')\n",
    "ax.tick_params(axis='both', which='major', labelsize=1)\n",
    "plt.xlim((-10,10))\n",
    "plt.savefig('2.png')"
   ]
  },
  {
   "cell_type": "code",
   "execution_count": null,
   "metadata": {},
   "outputs": [],
   "source": [
    "fig, ax = plt.subplots()\n",
    "plt.plot(x, y0, 'r', label='0.')\n",
    "plt.plot(x, y1, 'g', label='1.')\n",
    "ax.tick_params(axis='both', which='major', labelsize=1)\n",
    "plt.xlim((-10,10))\n",
    "plt.savefig('3.png')"
   ]
  },
  {
   "cell_type": "code",
   "execution_count": null,
   "metadata": {},
   "outputs": [],
   "source": [
    "fig, ax = plt.subplots()\n",
    "plt.plot(x, y0, 'r', label='0.')\n",
    "plt.plot(x, y1, 'g', label='1.')\n",
    "plt.plot(x, y2, 'b', label='2.')\n",
    "ax.tick_params(axis='both', which='major', labelsize=1)\n",
    "plt.xlim((-10,10))\n",
    "plt.savefig('4.png')"
   ]
  }
 ],
 "metadata": {
  "kernelspec": {
   "display_name": "Python 3",
   "language": "python",
   "name": "python3"
  },
  "language_info": {
   "codemirror_mode": {
    "name": "ipython",
    "version": 3
   },
   "file_extension": ".py",
   "mimetype": "text/x-python",
   "name": "python",
   "nbconvert_exporter": "python",
   "pygments_lexer": "ipython3",
   "version": "3.6.7"
  }
 },
 "nbformat": 4,
 "nbformat_minor": 2
}
