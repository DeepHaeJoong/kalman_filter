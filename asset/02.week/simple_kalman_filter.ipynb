{
 "cells": [
  {
   "cell_type": "code",
   "execution_count": null,
   "metadata": {},
   "outputs": [],
   "source": [
    "import numpy as np\n",
    "import matplotlib.pyplot as plt\n",
    "\n",
    "np.random.seed(0)"
   ]
  },
  {
   "cell_type": "code",
   "execution_count": null,
   "metadata": {},
   "outputs": [],
   "source": [
    "def get_volt():\n",
    "    \"\"\"Measure voltage.\"\"\"\n",
    "    v = np.random.normal(0, 2)   # v: measurement noise.\n",
    "    volt_true = 14.4             # volt_true: True voltage [V].\n",
    "    z_volt_meas = volt_true + v  # z_volt_meas: Measured Voltage [V] (observable).\n",
    "    return z_volt_meas"
   ]
  },
  {
   "cell_type": "code",
   "execution_count": null,
   "metadata": {},
   "outputs": [],
   "source": [
    "def kalman_filter(z_meas, x_esti, P):\n",
    "    \"\"\"Kalman Filter Algorithm for One Variable.\"\"\"\n",
    "    # (1) Prediction.\n",
    "    x_pred = x_esti\n",
    "    P_pred = P\n",
    "\n",
    "    # (2) Kalman Gain.\n",
    "    K = P_pred / (P_pred + R)\n",
    "\n",
    "    # (3) Estimation.\n",
    "    x_esti = (1 - K) * x_pred + K * z_meas\n",
    "\n",
    "    # (4) Error Covariance.\n",
    "    P = (1 - K) * P_pred\n",
    "\n",
    "    return x_esti, P, K"
   ]
  },
  {
   "cell_type": "code",
   "execution_count": null,
   "metadata": {},
   "outputs": [],
   "source": [
    "# Input parameters.\n",
    "time_end = 5\n",
    "dt = 1"
   ]
  },
  {
   "cell_type": "code",
   "execution_count": null,
   "metadata": {},
   "outputs": [],
   "source": [
    "# Initialization for system model.\n",
    "A = 1\n",
    "H = 1\n",
    "Q = 0\n",
    "R = 4\n",
    "# Initialization for estimation.\n",
    "x_0 = 12  # 14 for book.\n",
    "P_0 = 6"
   ]
  },
  {
   "cell_type": "code",
   "execution_count": null,
   "metadata": {},
   "outputs": [],
   "source": [
    "time = np.arange(0, time_end, dt)\n",
    "n_samples = len(time)\n",
    "volt_meas_save = np.zeros(n_samples)\n",
    "volt_esti_save = np.zeros(n_samples)"
   ]
  },
  {
   "cell_type": "code",
   "execution_count": null,
   "metadata": {},
   "outputs": [],
   "source": [
    "x_esti, P = None, None\n",
    "for i in range(n_samples):\n",
    "    z_meas = get_volt()\n",
    "    if i == 0:\n",
    "        x_esti, P, K = x_0, P_0, 1\n",
    "    else:\n",
    "        x_esti, P, K = kalman_filter(z_meas, x_esti, P)\n",
    "\n",
    "    print()\n",
    "    print(\"k      = \", i)\n",
    "    print(\"x_meas = \", format(z_meas, \".2f\"))\n",
    "    print(\"x_esti = \", format(x_esti, \".2f\"))\n",
    "    print(\"P      = \", format(P, \".2f\"))\n",
    "    print(\"K      = \", format(K, \".2f\"))\n",
    "    \n",
    "    volt_meas_save[i] = z_meas\n",
    "    volt_esti_save[i] = x_esti"
   ]
  },
  {
   "cell_type": "code",
   "execution_count": null,
   "metadata": {},
   "outputs": [],
   "source": [
    "plt.plot(time, volt_meas_save, 'r*--', label='Measurements')\n",
    "plt.plot(time, volt_esti_save, 'bo-', label='Kalman Filter')\n",
    "plt.legend(loc='upper left')\n",
    "plt.title('Measurements v.s. Estimation (Kalman Filter)')\n",
    "plt.xlabel('Time [sec]')\n",
    "plt.ylabel('Voltage [V]')\n",
    "plt.savefig('png/simple_kalman_filter.png')"
   ]
  }
 ],
 "metadata": {
  "kernelspec": {
   "display_name": "Python 3",
   "language": "python",
   "name": "python3"
  },
  "language_info": {
   "codemirror_mode": {
    "name": "ipython",
    "version": 3
   },
   "file_extension": ".py",
   "mimetype": "text/x-python",
   "name": "python",
   "nbconvert_exporter": "python",
   "pygments_lexer": "ipython3",
   "version": "3.6.7"
  }
 },
 "nbformat": 4,
 "nbformat_minor": 2
}
