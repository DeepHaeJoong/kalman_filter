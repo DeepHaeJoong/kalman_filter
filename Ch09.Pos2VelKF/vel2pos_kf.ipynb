{
 "cells": [
  {
   "cell_type": "code",
   "execution_count": null,
   "metadata": {},
   "outputs": [],
   "source": [
    "import numpy as np\n",
    "import matplotlib.pyplot as plt\n",
    "from numpy.linalg import inv\n",
    "\n",
    "np.random.seed(0)"
   ]
  },
  {
   "cell_type": "code",
   "execution_count": null,
   "metadata": {},
   "outputs": [],
   "source": [
    "def get_pos_vel(itime=0):\n",
    "    \"\"\"Return True Position and Measured Velocity.\n",
    "        - State space model:\n",
    "            * x_{k+1} = A x_{k} + w_{k}\n",
    "            * z_{k} = H x_{k} + v_{k}\n",
    "        - System Model:\n",
    "            (1) Initial condition:\n",
    "                y_pos_true_{0} = 0 [m]\n",
    "                y_vel_true_{0} = 80 [m/s]\n",
    "                w_{k} = N(0, 10)\n",
    "                v_{k} = N(0, 10)\n",
    "            (2) System condition:\n",
    "                A (state transition model)              = [[1, dt]\n",
    "                                                           [0, 1]]\n",
    "                H (observation model)                   = [[1, 0]]\n",
    "                Q (covariance of the process noise)     = [[1, 0],\n",
    "                                                           [0, 3]]\n",
    "                R (covariance of the observation noise) = [[10]]\n",
    "            (3) State space model:\n",
    "                y_pos_true_{k+1} = y_pos_true_{k} + y_vel_true_{k} * dt\n",
    "                y_vel_true_{k+1} = y_vel_true_{k}\n",
    "                z_vel_{k} = y_vel_true_{k} + v_{k}\n",
    "    \"\"\"\n",
    "    v_mean = 0\n",
    "    v_std = np.sqrt(10)\n",
    "    v = np.random.normal(v_mean, v_std)  # v: measurement noise.\n",
    "\n",
    "    y_pos_true_0 = 0                                                # y_pos_true_0: initial position [m] \n",
    "    y_vel_true_0 = 80                                               # y_vel_true_0: initial velocity [m/s]\n",
    "    y_pos_true = y_pos_true_0 + y_vel_true_0 * (itime * time_step)  # y_pos_true: true position. \n",
    "    y_vel_true = y_vel_true_0                                       # y_vel_true: true velocity.\n",
    "    z_vel_meas = y_vel_true + v                                     # z_pos_meas: measured position (observable) \n",
    "\n",
    "    return y_pos_true, z_vel_meas"
   ]
  },
  {
   "cell_type": "code",
   "execution_count": null,
   "metadata": {},
   "outputs": [],
   "source": [
    "def kalman_filter(z_meas, x_esti, P):\n",
    "    \"\"\"Estimate position using a kalman filter.\"\"\"\n",
    "    # (1) Prediction.\n",
    "    x_pred = A @ x_esti\n",
    "    P_pred = A @ P @ A.T + Q\n",
    "\n",
    "    # (2) Kalman Gain.\n",
    "    K = P_pred @ H.T @ inv(H @ P_pred @ H.T + R)\n",
    "\n",
    "    # (3) Eastimation.\n",
    "    x_esti = x_pred + K @ (z_meas - H @ x_pred)\n",
    "\n",
    "    # (4) Error Covariance.\n",
    "    P = P_pred - K @ H @ P_pred\n",
    "\n",
    "    return x_esti, P"
   ]
  },
  {
   "cell_type": "code",
   "execution_count": null,
   "metadata": {},
   "outputs": [],
   "source": [
    "# Input parameters.\n",
    "time_start = 0\n",
    "time_end = 4\n",
    "time_step = 0.1"
   ]
  },
  {
   "cell_type": "code",
   "execution_count": null,
   "metadata": {},
   "outputs": [],
   "source": [
    "# Initialization for system model.\n",
    "# Define matrix with rank 2 for matrix operation.\n",
    "dt = time_step\n",
    "A = np.array([[1, dt],\n",
    "              [0, 1]])\n",
    "H = np.array([[0, 1]])\n",
    "Q = np.array([[1, 0],\n",
    "              [0, 3]])\n",
    "R = np.array([[10]])\n",
    "\n",
    "# Initialization for estimation.\n",
    "x_0 = np.array([0, 20])  # position and velocity\n",
    "P_0 = 5 * np.eye(2)"
   ]
  },
  {
   "cell_type": "code",
   "execution_count": null,
   "metadata": {},
   "outputs": [],
   "source": [
    "time = np.arange(time_start, time_end, time_step)\n",
    "n_samples = len(time)"
   ]
  },
  {
   "cell_type": "code",
   "execution_count": null,
   "metadata": {},
   "outputs": [],
   "source": [
    "z_vel_meas_save = np.zeros(n_samples)\n",
    "y_pos_true_save = np.zeros(n_samples)\n",
    "x_pos_esti_save = np.zeros(n_samples)\n",
    "x_vel_esti_save = np.zeros(n_samples)"
   ]
  },
  {
   "cell_type": "code",
   "execution_count": null,
   "metadata": {},
   "outputs": [],
   "source": [
    "x_esti, P = None, None\n",
    "for i in range(n_samples):\n",
    "    y_pos_true, z_vel_meas = get_pos_vel(i)\n",
    "    if i == 0:\n",
    "        x_esti, P = x_0, P_0\n",
    "    else:\n",
    "        x_esti, P = kalman_filter(z_vel_meas, x_esti, P)\n",
    "\n",
    "    z_vel_meas_save[i] = z_vel_meas\n",
    "    y_pos_true_save[i] = y_pos_true\n",
    "    x_pos_esti_save[i] = x_esti[0]\n",
    "    x_vel_esti_save[i] = x_esti[1]"
   ]
  },
  {
   "cell_type": "code",
   "execution_count": null,
   "metadata": {},
   "outputs": [],
   "source": [
    "fig, axes = plt.subplots(nrows=1, ncols=2, figsize=(10,5))\n",
    "\n",
    "plt.subplot(1, 2, 1)\n",
    "plt.plot(time, x_vel_esti_save, 'bo-', label='Estimation (KF)')\n",
    "plt.plot(time, z_vel_meas_save, 'r*--', label='Measurements', markersize=10)\n",
    "plt.legend(loc='lower right')\n",
    "plt.title('Velocity: Meas. v.s. Esti. (KF)')\n",
    "plt.xlabel('Time [sec]')\n",
    "plt.ylabel('Velocity [m/s]')\n",
    "\n",
    "plt.subplot(1, 2, 2)\n",
    "plt.plot(time, x_pos_esti_save, 'bo-', label='Estimation (KF)')\n",
    "plt.plot(time, y_pos_true_save, 'g*--', label='True', markersize=10)\n",
    "plt.legend(loc='upper left')\n",
    "plt.title('Position: True v.s. Esti. (KF)')\n",
    "plt.xlabel('Time [sec]')\n",
    "plt.ylabel('Position [m]')\n",
    "plt.savefig('png/vel2pos_kf.png')"
   ]
  }
 ],
 "metadata": {
  "kernelspec": {
   "display_name": "Python 3",
   "language": "python",
   "name": "python3"
  },
  "language_info": {
   "codemirror_mode": {
    "name": "ipython",
    "version": 3
   },
   "file_extension": ".py",
   "mimetype": "text/x-python",
   "name": "python",
   "nbconvert_exporter": "python",
   "pygments_lexer": "ipython3",
   "version": "3.6.7"
  }
 },
 "nbformat": 4,
 "nbformat_minor": 2
}
