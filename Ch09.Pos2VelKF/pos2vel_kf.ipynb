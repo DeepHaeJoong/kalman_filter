{
 "cells": [
  {
   "cell_type": "code",
   "execution_count": null,
   "metadata": {},
   "outputs": [],
   "source": [
    "import numpy as np\n",
    "import matplotlib.pyplot as plt\n",
    "from numpy.linalg import inv\n",
    "\n",
    "np.random.seed(0)"
   ]
  },
  {
   "cell_type": "code",
   "execution_count": null,
   "metadata": {},
   "outputs": [],
   "source": [
    "def get_pos_vel(itime=0):\n",
    "    \"\"\"Return Measured Position and True Velocity.\n",
    "        - State space model:\n",
    "            * x_{k+1} = A x_{k} + w_{k}\n",
    "            * z_{k} = H x_{k} + v_{k}\n",
    "        - System Model:\n",
    "            (1) Initial condition:\n",
    "                x_pos_{0} = 0 [m]\n",
    "                x_vel_{0} = 80 [m/s]\n",
    "                w_{k} = N(0, 10)\n",
    "                v_{k} = N(0, 10)\n",
    "            (2) System condition:\n",
    "                A (state transition model)              = [[1, dt]\n",
    "                                                           [0,  1]]\n",
    "                H (observation model)                   = [1, 0]\n",
    "                Q (covariance of the process noise)     = [[1, 0],\n",
    "                                                           [0, 3]]\n",
    "                R (covariance of the observation noise) = 10\n",
    "            (3) State space model:\n",
    "                x_pos_{k+1} = x_pos_{k} + x_vel_{k} * dt\n",
    "                x_vel_{k+1} = x_vel_{k} + w_{k}\n",
    "                z_pos_{k} = x_pos_{k} + v_{k}\n",
    "    \"\"\"\n",
    "    w_mean = 0\n",
    "    w_std = np.sqrt(10)\n",
    "    w = np.random.normal(w_mean, w_std)  # w: system noise.\n",
    "\n",
    "    v_mean = 0\n",
    "    v_std = np.sqrt(10)\n",
    "    v = np.random.normal(v_mean, v_std)  # v: measurement noise.\n",
    "\n",
    "    x_pos_0 = 0                                       # x_pos_0: initial position [m] \n",
    "    x_vel_0 = 80                                      # x_vel_0: initial velocity [m/s]\n",
    "    x_pos = x_pos_0 + x_vel_0 * (itime * time_width)  # x_pos: true position. \n",
    "    x_vel = x_vel_0 + w                               # x_vel: true velocity.\n",
    "    z_pos = x_pos + v                                 # z_pos: measured position (observable) \n",
    "\n",
    "    return z_pos, x_vel"
   ]
  },
  {
   "cell_type": "code",
   "execution_count": null,
   "metadata": {},
   "outputs": [],
   "source": [
    "def kalman_filter(z_meas, x_esti, P):\n",
    "    \"\"\"Estimate voltage using a kalman filter.\"\"\"\n",
    "    # (1) Prediction.\n",
    "    x_pred = A @ x_esti\n",
    "    P_pred = A @ P @ A.T + Q\n",
    "\n",
    "    # (2) Kalman Gain.\n",
    "    K = P_pred @ H.T @ np.linalg.inv(H @ P_pred @ H.T + R)\n",
    "\n",
    "    # (3) Eastimation.\n",
    "    x_esti = x_pred + K @ (z_meas - H @ x_pred)\n",
    "\n",
    "    # (4) Error Covariance.\n",
    "    P = P_pred - K @ H @ P_pred\n",
    "\n",
    "    return x_esti, P"
   ]
  },
  {
   "cell_type": "code",
   "execution_count": null,
   "metadata": {},
   "outputs": [],
   "source": [
    "# Input parameters.\n",
    "time_start = 0\n",
    "time_end = 10\n",
    "time_width = 0.1"
   ]
  },
  {
   "cell_type": "code",
   "execution_count": null,
   "metadata": {},
   "outputs": [],
   "source": [
    "# Initialization for system model.\n",
    "# Define matrix with rank 2 for matrix operation.\n",
    "A = np.array([[1, time_width],\n",
    "              [0, 1]])\n",
    "H = np.array([[1, 0]])\n",
    "Q = np.array([[1, 0],\n",
    "              [0, 3]])\n",
    "R = np.array([[10]])\n",
    "\n",
    "# Initialization for estimation.\n",
    "x_0 = np.array([0, 20])  # position and velocity\n",
    "P_0 = 5 * np.eye(2)"
   ]
  },
  {
   "cell_type": "code",
   "execution_count": null,
   "metadata": {},
   "outputs": [],
   "source": [
    "time = np.arange(time_start, time_end, time_width)\n",
    "n_samples = len(time)"
   ]
  },
  {
   "cell_type": "code",
   "execution_count": null,
   "metadata": {},
   "outputs": [],
   "source": [
    "z_pos_meas_save = np.zeros(n_samples)\n",
    "x_vel_true_save = np.zeros(n_samples)\n",
    "x_pos_esti_save = np.zeros(n_samples)\n",
    "x_vel_esti_save = np.zeros(n_samples)"
   ]
  },
  {
   "cell_type": "code",
   "execution_count": null,
   "metadata": {},
   "outputs": [],
   "source": [
    "x_esti, P = np.zeros(2), 0\n",
    "for i in range(n_samples):\n",
    "    z_pos_meas, x_vel_true = get_pos_vel(i)\n",
    "    if i == 0:\n",
    "        x_esti, P = x_0, P_0\n",
    "    else:\n",
    "        x_esti, P = kalman_filter(z_pos_meas, x_esti, P)\n",
    "\n",
    "    z_pos_meas_save[i] = z_pos_meas\n",
    "    x_vel_true_save[i] = x_vel_true\n",
    "    x_pos_esti_save[i] = x_esti[0]\n",
    "    x_vel_esti_save[i] = x_esti[1]"
   ]
  },
  {
   "cell_type": "code",
   "execution_count": null,
   "metadata": {},
   "outputs": [],
   "source": [
    "fig, axes = plt.subplots(nrows=1, ncols=2, figsize=(10,5))\n",
    "\n",
    "plt.subplot(1, 2, 1)\n",
    "plt.plot(time, x_pos_esti_save, 'bo-', label='Estimation (KF)')\n",
    "plt.plot(time, z_pos_meas_save, 'r*--', label='Measurements')\n",
    "plt.legend(loc='upper left')\n",
    "plt.title('Position: Meas. v.s. Esti. (KF)')\n",
    "plt.xlabel('Time [sec]')\n",
    "plt.ylabel('Position [m]')\n",
    "\n",
    "plt.subplot(1, 2, 2)\n",
    "plt.plot(time, x_vel_true_save, 'r*--', label='True')\n",
    "plt.plot(time, x_vel_esti_save, 'bo-', label='Estimation (KF)')\n",
    "plt.legend(loc='lower right')\n",
    "plt.title('Velocity: True v.s. Esti. (KF)')\n",
    "plt.xlabel('Time [sec]')\n",
    "plt.ylabel('Velocity [m/s]')\n",
    "plt.savefig('png/pos2vel_kf.png')"
   ]
  }
 ],
 "metadata": {
  "kernelspec": {
   "display_name": "Python 3",
   "language": "python",
   "name": "python3"
  },
  "language_info": {
   "codemirror_mode": {
    "name": "ipython",
    "version": 3
   },
   "file_extension": ".py",
   "mimetype": "text/x-python",
   "name": "python",
   "nbconvert_exporter": "python",
   "pygments_lexer": "ipython3",
   "version": "3.6.7"
  }
 },
 "nbformat": 4,
 "nbformat_minor": 2
}
