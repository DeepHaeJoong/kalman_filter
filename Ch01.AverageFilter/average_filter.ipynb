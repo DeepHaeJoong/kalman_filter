{
 "cells": [
  {
   "cell_type": "code",
   "execution_count": null,
   "metadata": {},
   "outputs": [],
   "source": [
    "import numpy as np\n",
    "import matplotlib.pyplot as plt\n",
    "\n",
    "np.random.seed(0)"
   ]
  },
  {
   "cell_type": "code",
   "execution_count": null,
   "metadata": {},
   "outputs": [],
   "source": [
    "def get_volt():\n",
    "    \"\"\"Measure voltage.\"\"\"\n",
    "    noise_mean = 0.0\n",
    "    noise_std = 4.0\n",
    "    voltage_mean = 14.4\n",
    "    w = np.random.normal(noise_mean, noise_std)\n",
    "    z = voltage_mean + w\n",
    "    return z"
   ]
  },
  {
   "cell_type": "code",
   "execution_count": null,
   "metadata": {},
   "outputs": [],
   "source": [
    "def avg_filter(k, avg, x):\n",
    "    \"\"\"Calculate average voltage using a average filter.\"\"\"\n",
    "    alpha = (k - 1) / k\n",
    "    avg = alpha * avg + (1 - alpha) * x\n",
    "    return avg"
   ]
  },
  {
   "cell_type": "code",
   "execution_count": null,
   "metadata": {},
   "outputs": [],
   "source": [
    "time_start = 0\n",
    "time_end = 10\n",
    "time_width = 0.2"
   ]
  },
  {
   "cell_type": "code",
   "execution_count": null,
   "metadata": {},
   "outputs": [],
   "source": [
    "time = np.arange(time_start, time_end + time_width, time_width)\n",
    "n_samples = len(time)"
   ]
  },
  {
   "cell_type": "code",
   "execution_count": null,
   "metadata": {},
   "outputs": [],
   "source": [
    "xm_save = np.zeros(n_samples)\n",
    "avg_save = np.zeros(n_samples)"
   ]
  },
  {
   "cell_type": "code",
   "execution_count": null,
   "metadata": {},
   "outputs": [],
   "source": [
    "avg = 0\n",
    "for i in range(n_samples):\n",
    "    k = i + 1\n",
    "    xm = get_volt()\n",
    "    avg = avg_filter(k, avg, xm)\n",
    "\n",
    "    xm_save[i] = xm\n",
    "    avg_save[i] = avg"
   ]
  },
  {
   "cell_type": "code",
   "execution_count": null,
   "metadata": {},
   "outputs": [],
   "source": [
    "plt.plot(time, xm_save, 'r*', label='Measured')\n",
    "plt.plot(time, avg_save, 'b-', label='Average')\n",
    "plt.legend(loc='upper left')\n",
    "plt.title('Measured Voltages v.s. Average Filter Values')\n",
    "plt.xlabel('Time [sec]')\n",
    "plt.ylabel('Volt [V]')\n",
    "plt.savefig('png/average_filter.png')"
   ]
  }
 ],
 "metadata": {
  "kernelspec": {
   "display_name": "Python 3",
   "language": "python",
   "name": "python3"
  },
  "language_info": {
   "codemirror_mode": {
    "name": "ipython",
    "version": 3
   },
   "file_extension": ".py",
   "mimetype": "text/x-python",
   "name": "python",
   "nbconvert_exporter": "python",
   "pygments_lexer": "ipython3",
   "version": "3.6.7"
  }
 },
 "nbformat": 4,
 "nbformat_minor": 2
}
