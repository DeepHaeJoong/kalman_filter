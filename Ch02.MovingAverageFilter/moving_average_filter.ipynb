{
 "cells": [
  {
   "cell_type": "code",
   "execution_count": null,
   "metadata": {},
   "outputs": [],
   "source": [
    "import numpy as np\n",
    "import matplotlib.pyplot as plt\n",
    "from scipy import io"
   ]
  },
  {
   "cell_type": "code",
   "execution_count": null,
   "metadata": {},
   "outputs": [],
   "source": [
    "input_mat = io.loadmat('data/SonarAlt.mat')"
   ]
  },
  {
   "cell_type": "code",
   "execution_count": null,
   "metadata": {},
   "outputs": [],
   "source": [
    "def get_sonar(i):\n",
    "    \"\"\"Measure sonar.\"\"\"\n",
    "    z = input_mat['sonarAlt'][0][i]  # input_mat['sonaralt']: (1, 1501)\n",
    "    return z"
   ]
  },
  {
   "cell_type": "code",
   "execution_count": null,
   "metadata": {},
   "outputs": [],
   "source": [
    "def mov_avg_filter(xn, xm):\n",
    "    \"\"\"Calculate average sonar using a moving average filter (batch expression).\"\"\"\n",
    "    n = len(xn)\n",
    "    for i in range(n-1):\n",
    "        xn[i] = xn[i+1]\n",
    "    xn[n-1] = xm\n",
    "    avg = np.mean(xn)\n",
    "    return avg, xn"
   ]
  },
  {
   "cell_type": "code",
   "execution_count": null,
   "metadata": {},
   "outputs": [],
   "source": [
    "# Input parameters.\n",
    "n = 10\n",
    "n_samples = 500\n",
    "time_start = 0\n",
    "time_end = 10"
   ]
  },
  {
   "cell_type": "code",
   "execution_count": null,
   "metadata": {},
   "outputs": [],
   "source": [
    "time_width = (time_end - time_start) / n_samples\n",
    "time = np.arange(time_start, time_end, time_width)"
   ]
  },
  {
   "cell_type": "code",
   "execution_count": null,
   "metadata": {},
   "outputs": [],
   "source": [
    "xm_save = np.zeros(n_samples)\n",
    "avg_save = np.zeros(n_samples)"
   ]
  },
  {
   "cell_type": "code",
   "execution_count": null,
   "metadata": {},
   "outputs": [],
   "source": [
    "for i in range(n_samples):\n",
    "    xm = get_sonar(i)\n",
    "    if i == 0:\n",
    "        avg, xn = xm, xm * np.ones(n)\n",
    "    else:\n",
    "        avg, xn = mov_avg_filter(xn, xm)\n",
    "\n",
    "    xm_save[i] = xm\n",
    "    avg_save[i] = avg"
   ]
  },
  {
   "cell_type": "code",
   "execution_count": null,
   "metadata": {},
   "outputs": [],
   "source": [
    "plt.plot(time, xm_save, 'r*', label='Measured')\n",
    "plt.plot(time, avg_save, 'b-', label='Moving average')\n",
    "plt.legend(loc='upper left')\n",
    "plt.title('Measured altitudes v.s. Moving Average Filter Values')\n",
    "plt.xlabel('Time [sec]')\n",
    "plt.ylabel('Altitude [m]')\n",
    "plt.savefig('png/moving_average_filter.png')"
   ]
  }
 ],
 "metadata": {
  "kernelspec": {
   "display_name": "Python 3",
   "language": "python",
   "name": "python3"
  },
  "language_info": {
   "codemirror_mode": {
    "name": "ipython",
    "version": 3
   },
   "file_extension": ".py",
   "mimetype": "text/x-python",
   "name": "python",
   "nbconvert_exporter": "python",
   "pygments_lexer": "ipython3",
   "version": "3.6.7"
  }
 },
 "nbformat": 4,
 "nbformat_minor": 2
}
